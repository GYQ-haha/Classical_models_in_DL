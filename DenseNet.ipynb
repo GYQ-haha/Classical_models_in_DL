{
 "cells": [
  {
   "cell_type": "markdown",
   "id": "2acd7e11",
   "metadata": {},
   "source": [
    "参考连接：https://blog.csdn.net/qq_38253797/article/details/117078603"
   ]
  },
  {
   "cell_type": "code",
   "execution_count": 11,
   "id": "132b3fe7",
   "metadata": {},
   "outputs": [],
   "source": [
    "import torch\n",
    "import torch.nn as nn\n",
    "import torch.optim as optim\n",
    "from torch.utils.data import DataLoader #只能这么调用\n",
    "import torchvision\n",
    "import torchvision.datasets as datasets\n",
    "import torchvision.transforms as transforms"
   ]
  },
  {
   "cell_type": "markdown",
   "id": "0778f40e",
   "metadata": {},
   "source": [
    "# Prepare Data"
   ]
  },
  {
   "cell_type": "code",
   "execution_count": 12,
   "id": "775b872d",
   "metadata": {
    "scrolled": false
   },
   "outputs": [
    {
     "name": "stdout",
     "output_type": "stream",
     "text": [
      "Files already downloaded and verified\n",
      "Files already downloaded and verified\n"
     ]
    }
   ],
   "source": [
    "batch_size = 64\n",
    "transform=transforms.Compose([transforms.ToTensor(),transforms.Normalize((0.5,0.5,0.5),(0.5,0.5,0.5))])\n",
    "train_data = datasets.CIFAR10(root = '../dataset/cifar',download=True,train=True,transform=transform)\n",
    "train_loader = DataLoader(train_data,batch_size=batch_size,shuffle=True)\n",
    "test_data = datasets.CIFAR10(root='../dataset/cifar',download=True,train=False,transform=transform)\n",
    "test_loader = DataLoader(test_data,batch_size=batch_size,shuffle=False)"
   ]
  },
  {
   "cell_type": "code",
   "execution_count": 13,
   "id": "9793b963",
   "metadata": {},
   "outputs": [
    {
     "name": "stdout",
     "output_type": "stream",
     "text": [
      "torch.Size([64, 3, 32, 32])\n"
     ]
    }
   ],
   "source": [
    "data=iter(train_loader)\n",
    "images,targets=data.next()\n",
    "print(images.size())"
   ]
  },
  {
   "cell_type": "markdown",
   "id": "a11f7046",
   "metadata": {},
   "source": [
    "# Design Model"
   ]
  },
  {
   "cell_type": "markdown",
   "id": "5064e35d",
   "metadata": {},
   "source": [
    "<img src=\"https://markdown-yqguo.oss-cn-beijing.aliyuncs.com/markdown-yqguo/20210523171246219.png\" alt=\"在这里插入图片描述\" style=\"zoom:33%;\" />"
   ]
  },
  {
   "cell_type": "code",
   "execution_count": 14,
   "id": "dd105508",
   "metadata": {},
   "outputs": [],
   "source": [
    "class _DenseLayer(nn.Module): #加了Bottleneck和compression（DenseNet-BC）\n",
    "    def __init__(self, num_input_features, growth_rate, bn_size, drop_rate=0):\n",
    "        super(_DenseLayer, self).__init__()\n",
    "        self.drop_rate = drop_rate\n",
    "        self.dense_layer = nn.Sequential(\n",
    "            nn.BatchNorm2d(num_input_features),\n",
    "            nn.ReLU(inplace=True),\n",
    "            # Bottleneck\n",
    "            nn.Conv2d(in_channels=num_input_features, out_channels=bn_size * growth_rate, kernel_size=1, stride=1, padding=0, bias=False),\n",
    "            nn.BatchNorm2d(bn_size * growth_rate),\n",
    "            nn.ReLU(inplace=True),\n",
    "            nn.Conv2d(in_channels=bn_size * growth_rate, out_channels=growth_rate, kernel_size=3, stride=1, padding=1, bias=False)\n",
    "        )\n",
    "        self.dropout = nn.Dropout(p=self.drop_rate)\n",
    "\n",
    "    def forward(self, x):\n",
    "        y = self.dense_layer(x)\n",
    "        if self.drop_rate > 0:\n",
    "            y = self.dropout(y)\n",
    "\n",
    "        return torch.cat([x, y], dim=1)\n",
    "\n",
    "\n",
    "class _DenseBlock(nn.Module):\n",
    "    def __init__(self, num_layers, num_input_features, bn_size, growth_rate, drop_rate=0):\n",
    "        super(_DenseBlock, self).__init__()\n",
    "        layers = []\n",
    "        for i in range(num_layers):\n",
    "            layers.append(_DenseLayer(num_input_features + i * growth_rate, growth_rate, bn_size, drop_rate))\n",
    "        self.layers = nn.Sequential(*layers)\n",
    "\n",
    "    def forward(self, x):\n",
    "        return self.layers(x)\n",
    "\n",
    "\n",
    "class _TransitionLayer(nn.Module):\n",
    "    def __init__(self, num_input_features, num_output_features):\n",
    "        super(_TransitionLayer, self).__init__()\n",
    "        self.transition_layer = nn.Sequential(\n",
    "            nn.BatchNorm2d(num_input_features),\n",
    "            nn.ReLU(inplace=True),\n",
    "            # compression\n",
    "            nn.Conv2d(in_channels=num_input_features, out_channels=num_output_features, kernel_size=1, stride=1, padding=0, bias=False),\n",
    "            nn.AvgPool2d(kernel_size=2, stride=2)\n",
    "        )\n",
    "\n",
    "    def forward(self, x):\n",
    "        return self.transition_layer(x)\n",
    "\n",
    "\n",
    "class DenseNet(nn.Module):\n",
    "    def __init__(self, num_init_features=64, growth_rate=32, blocks=(6, 12, 24, 16), bn_size=4, drop_rate=0, num_classes=1000):\n",
    "        super(DenseNet, self).__init__()\n",
    "\n",
    "        self.features = nn.Sequential(\n",
    "            nn.Conv2d(in_channels=3, out_channels=num_init_features, kernel_size=7, stride=2, padding=3, bias=False),\n",
    "            nn.BatchNorm2d(num_init_features),\n",
    "            nn.ReLU(inplace=True),\n",
    "            nn.MaxPool2d(kernel_size=3, stride=2, padding=1)\n",
    "        )\n",
    "\n",
    "        num_features = num_init_features\n",
    "        self.layer1 = _DenseBlock(num_layers=blocks[0], num_input_features=num_features, growth_rate=growth_rate, bn_size=bn_size, drop_rate=drop_rate)\n",
    "        num_features = num_features + blocks[0] * growth_rate\n",
    "        self.transtion1 = _TransitionLayer(num_input_features=num_features, num_output_features=num_features // 2)\n",
    "\n",
    "        num_features = num_features // 2\n",
    "        self.layer2 = _DenseBlock(num_layers=blocks[1], num_input_features=num_features, growth_rate=growth_rate, bn_size=bn_size, drop_rate=drop_rate)\n",
    "        num_features = num_features + blocks[1] * growth_rate\n",
    "        self.transtion2 = _TransitionLayer(num_input_features=num_features, num_output_features=num_features // 2)\n",
    "\n",
    "        num_features = num_features // 2\n",
    "        self.layer3 = _DenseBlock(num_layers=blocks[2], num_input_features=num_features, growth_rate=growth_rate, bn_size=bn_size, drop_rate=drop_rate)\n",
    "        num_features = num_features + blocks[2] * growth_rate\n",
    "        self.transtion3 = _TransitionLayer(num_input_features=num_features, num_output_features=num_features // 2)\n",
    "\n",
    "        num_features = num_features // 2\n",
    "        self.layer4 = _DenseBlock(num_layers=blocks[3], num_input_features=num_features, growth_rate=growth_rate, bn_size=bn_size, drop_rate=drop_rate)\n",
    "        num_features = num_features + blocks[3] * growth_rate\n",
    "\n",
    "        self.avgpool = nn.AdaptiveAvgPool2d((1, 1))  #当数据集是CIFAR和SVHN时，使用1×1的池化，当数据集是ImageNet时使用7×7的池化\n",
    "        self.fc = nn.Linear(num_features, num_classes)\n",
    "\n",
    "    def forward(self, x):\n",
    "        x = self.features(x)\n",
    "\n",
    "        x = self.layer1(x)\n",
    "        x = self.transtion1(x)\n",
    "        x = self.layer2(x)\n",
    "        x = self.transtion2(x)\n",
    "        x = self.layer3(x)\n",
    "        x = self.transtion3(x)\n",
    "        x = self.layer4(x)\n",
    "        #print(x.size())\n",
    "\n",
    "        x = self.avgpool(x)\n",
    "        x = torch.flatten(x, start_dim=1)\n",
    "        x = self.fc(x)\n",
    "\n",
    "        return x\n",
    "\n",
    "\n",
    "def DenseNet121(num_classes):\n",
    "    return DenseNet(blocks=(6, 12, 24, 16), num_classes=num_classes)\n",
    "\n",
    "def DenseNet169(num_classes):\n",
    "    return DenseNet(blocks=(6, 12, 32, 32), num_classes=num_classes)\n",
    "\n",
    "def DenseNet201(num_classes):\n",
    "    return DenseNet(blocks=(6, 12, 48, 32), num_classes=num_classes)\n",
    "\n",
    "def DenseNet264(num_classes):\n",
    "    return DenseNet(blocks=(6, 12, 64, 48), num_classes=num_classes)\n",
    "\n",
    "def read_densenet121():\n",
    "    device = torch.device('cuda' if torch.cuda.is_available() else 'cpu')\n",
    "    model = models.densenet121(pretrained=True)\n",
    "    model.to(device)\n",
    "    #print(model)\n",
    "\n",
    "\n",
    "def get_densenet121(flag, num_classes):\n",
    "    if flag:\n",
    "        net = models.densenet121(pretrained=True)\n",
    "        num_input = net.classifier.in_features\n",
    "        net.classifier = nn.Linear(num_input, num_classes)\n",
    "    else:\n",
    "        net = DenseNet121(num_classes)\n",
    "\n",
    "    return net"
   ]
  },
  {
   "cell_type": "code",
   "execution_count": 15,
   "id": "dd0f1d4e",
   "metadata": {},
   "outputs": [],
   "source": [
    "net = get_densenet121(False,10)"
   ]
  },
  {
   "cell_type": "markdown",
   "id": "c7a9d9a1",
   "metadata": {},
   "source": [
    "# Construct loss and optimizer"
   ]
  },
  {
   "cell_type": "code",
   "execution_count": 16,
   "id": "10ecb4e7",
   "metadata": {},
   "outputs": [],
   "source": [
    "criterion = nn.CrossEntropyLoss()\n",
    "optimizer = optim.SGD(net.parameters(), lr=0.001, momentum=0.9)"
   ]
  },
  {
   "cell_type": "markdown",
   "id": "6a117b75",
   "metadata": {},
   "source": [
    "# Training cycle"
   ]
  },
  {
   "cell_type": "code",
   "execution_count": 17,
   "id": "4c971bcf",
   "metadata": {},
   "outputs": [],
   "source": [
    "def train(epoch,device):\n",
    "    running_loss = 0.0\n",
    "    for i, data in enumerate(train_loader, 0):\n",
    "        # get the inputs\n",
    "        inputs, labels = data\n",
    "        inputs,labels=inputs.to(device),labels.to(device)\n",
    "\n",
    "        # zero the parameter gradients\n",
    "        optimizer.zero_grad()\n",
    "\n",
    "        # forward + backward + optimize\n",
    "        outputs = net(inputs)\n",
    "        loss = criterion(outputs, labels)\n",
    "        loss.backward()\n",
    "        optimizer.step()\n",
    "\n",
    "        # print statistics\n",
    "        running_loss += loss.item()\n",
    "        if i % 300 == 299:    # print every 2000 mini-batches\n",
    "            print('[%d, %5d] loss: %.3f' %\n",
    "                  (epoch + 1, i + 1, running_loss / 299))\n",
    "            running_loss = 0.0\n",
    "\n",
    "    print('Finished Training')"
   ]
  },
  {
   "cell_type": "code",
   "execution_count": 18,
   "id": "68cec6cf",
   "metadata": {},
   "outputs": [],
   "source": [
    "def test(device):\n",
    "    correct = 0\n",
    "    total = 0\n",
    "    with torch.no_grad():\n",
    "        for data in test_loader:\n",
    "            images, labels = data\n",
    "            images,labels=images.to(device),labels.to(device)\n",
    "            outputs = net(images)\n",
    "            _, predicted = torch.max(outputs.data, 1)\n",
    "            total += labels.size(0)\n",
    "            correct += (predicted == labels).sum().item()\n",
    "\n",
    "    print('Accuracy of the network on test set: %d %%' % (\n",
    "        100 * correct / total))"
   ]
  },
  {
   "cell_type": "code",
   "execution_count": 19,
   "id": "756fec3c",
   "metadata": {},
   "outputs": [
    {
     "name": "stdout",
     "output_type": "stream",
     "text": [
      "[1,   300] loss: 1.891\n",
      "[1,   600] loss: 1.492\n",
      "Finished Training\n",
      "Accuracy of the network on test set: 52 %\n",
      "[2,   300] loss: 1.226\n",
      "[2,   600] loss: 1.138\n",
      "Finished Training\n",
      "Accuracy of the network on test set: 61 %\n",
      "[3,   300] loss: 0.987\n",
      "[3,   600] loss: 0.958\n",
      "Finished Training\n",
      "Accuracy of the network on test set: 65 %\n",
      "[4,   300] loss: 0.806\n",
      "[4,   600] loss: 0.828\n",
      "Finished Training\n",
      "Accuracy of the network on test set: 68 %\n",
      "[5,   300] loss: 0.699\n",
      "[5,   600] loss: 0.705\n",
      "Finished Training\n",
      "Accuracy of the network on test set: 69 %\n",
      "[6,   300] loss: 0.591\n",
      "[6,   600] loss: 0.624\n",
      "Finished Training\n",
      "Accuracy of the network on test set: 69 %\n",
      "[7,   300] loss: 0.489\n",
      "[7,   600] loss: 0.543\n",
      "Finished Training\n",
      "Accuracy of the network on test set: 70 %\n",
      "[8,   300] loss: 0.406\n",
      "[8,   600] loss: 0.456\n",
      "Finished Training\n",
      "Accuracy of the network on test set: 70 %\n",
      "[9,   300] loss: 0.350\n",
      "[9,   600] loss: 0.397\n",
      "Finished Training\n",
      "Accuracy of the network on test set: 71 %\n",
      "[10,   300] loss: 0.282\n",
      "[10,   600] loss: 0.336\n",
      "Finished Training\n",
      "Accuracy of the network on test set: 71 %\n"
     ]
    }
   ],
   "source": [
    "device = torch.device('cuda:0' if torch.cuda.is_available() else 'cpu')\n",
    "# print(device) #cuda:0\n",
    "net.to(device)\n",
    "for epoch in range(10):\n",
    "    train(epoch,device)\n",
    "    test(device)"
   ]
  }
 ],
 "metadata": {
  "hide_input": false,
  "kernelspec": {
   "display_name": "pytorch_visdom",
   "language": "python",
   "name": "pytorch_visdom3"
  },
  "language_info": {
   "codemirror_mode": {
    "name": "ipython",
    "version": 3
   },
   "file_extension": ".py",
   "mimetype": "text/x-python",
   "name": "python",
   "nbconvert_exporter": "python",
   "pygments_lexer": "ipython3",
   "version": "3.6.13"
  },
  "toc": {
   "base_numbering": 1,
   "nav_menu": {},
   "number_sections": true,
   "sideBar": true,
   "skip_h1_title": false,
   "title_cell": "Table of Contents",
   "title_sidebar": "Contents",
   "toc_cell": false,
   "toc_position": {
    "height": "calc(100% - 180px)",
    "left": "10px",
    "top": "150px",
    "width": "288px"
   },
   "toc_section_display": true,
   "toc_window_display": true
  }
 },
 "nbformat": 4,
 "nbformat_minor": 5
}
