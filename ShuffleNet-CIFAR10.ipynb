{
 "cells": [
  {
   "cell_type": "code",
   "execution_count": 3,
   "id": "d6b446d5",
   "metadata": {},
   "outputs": [],
   "source": [
    "'''ShuffleNet in PyTorch.\n",
    "\n",
    "See the paper \"ShuffleNet: An Extremely Efficient Convolutional Neural Network for Mobile Devices\" for more details.\n",
    "'''\n",
    "import torch\n",
    "import torchvision\n",
    "import torchvision.datasets as datasets\n",
    "import torchvision.transforms as transforms\n",
    "from torch.utils.data import DataLoader\n",
    "import torch.nn as nn\n",
    "import torch.nn.functional as F\n",
    "import torch.optim as optim"
   ]
  },
  {
   "cell_type": "markdown",
   "id": "2ce78d91",
   "metadata": {},
   "source": [
    "# Prepare Data"
   ]
  },
  {
   "cell_type": "code",
   "execution_count": 9,
   "id": "bed04ae4",
   "metadata": {},
   "outputs": [
    {
     "name": "stdout",
     "output_type": "stream",
     "text": [
      "Files already downloaded and verified\n",
      "Files already downloaded and verified\n"
     ]
    }
   ],
   "source": [
    "batch_size = 64\n",
    "transform=transforms.Compose([transforms.ToTensor(),transforms.Normalize((0.5,0.5,0.5),(0.5,0.5,0.5))])\n",
    "train_data = datasets.CIFAR10(root = '../dataset/cifar',download=True,train=True,transform=transform)\n",
    "train_loader = DataLoader(train_data,batch_size=batch_size,shuffle=True)\n",
    "test_data = datasets.CIFAR10(root='../dataset/cifar',download=True,train=False,transform=transform)\n",
    "test_loader = DataLoader(test_data,batch_size=batch_size,shuffle=False)"
   ]
  },
  {
   "cell_type": "markdown",
   "id": "d2725b2b",
   "metadata": {},
   "source": [
    "# Design Model"
   ]
  },
  {
   "cell_type": "code",
   "execution_count": 10,
   "id": "26a33875",
   "metadata": {},
   "outputs": [
    {
     "name": "stdout",
     "output_type": "stream",
     "text": [
      "tensor([[ 0.4033, -0.6807,  0.1131,  0.9165,  0.2609, -1.2319, -0.4935,  0.0389,\n",
      "          2.1435, -1.2825]], grad_fn=<AddmmBackward0>)\n"
     ]
    }
   ],
   "source": [
    "# 可以用于处理大小为32*32的彩色图片，将图片分成10类\n",
    "class ShuffleBlock(nn.Module):\n",
    "    def __init__(self, groups):\n",
    "        super(ShuffleBlock, self).__init__()\n",
    "        self.groups = groups\n",
    "\n",
    "    def forward(self, x):\n",
    "        '''Channel shuffle: [N,C,H,W] -> [N,g,C/g,H,W] -> [N,C/g,g,H,w] -> [N,C,H,W]'''\n",
    "        N,C,H,W = x.size()\n",
    "        g = self.groups\n",
    "        # 维度变换之后必须要使用.contiguous()使得张量在内存连续之后才能调用view函数\n",
    "        return x.view(N,g,int(C/g),H,W).permute(0,2,1,3,4).contiguous().view(N,C,H,W)\n",
    "\n",
    "\n",
    "class Bottleneck(nn.Module):\n",
    "    def __init__(self, in_planes, out_planes, stride, groups):\n",
    "        super(Bottleneck, self).__init__()\n",
    "        self.stride = stride\n",
    "\n",
    "        # bottleneck层中间层的channel数变为输出channel数的1/4\n",
    "        mid_planes = int(out_planes/4)\n",
    "\n",
    "\n",
    "        g = 1 if in_planes==24 else groups\n",
    "        # 作者提到不在stage2的第一个pointwise层使用组卷积,因为输入channel数量太少,只有24\n",
    "        self.conv1 = nn.Conv2d(in_planes, mid_planes,\n",
    "                               kernel_size=1, groups=g, bias=False)\n",
    "        self.bn1 = nn.BatchNorm2d(mid_planes)\n",
    "        self.shuffle1 = ShuffleBlock(groups=g)\n",
    "        self.conv2 = nn.Conv2d(mid_planes, mid_planes,\n",
    "                               kernel_size=3, stride=stride, padding=1,\n",
    "                               groups=mid_planes, bias=False)\n",
    "        self.bn2 = nn.BatchNorm2d(mid_planes)\n",
    "        self.conv3 = nn.Conv2d(mid_planes, out_planes,\n",
    "                               kernel_size=1, groups=groups, bias=False)\n",
    "        self.bn3 = nn.BatchNorm2d(out_planes)\n",
    "\n",
    "        self.shortcut = nn.Sequential()\n",
    "        if stride == 2:\n",
    "            self.shortcut = nn.Sequential(nn.AvgPool2d(3, stride=2, padding=1))\n",
    "\n",
    "    def forward(self, x):\n",
    "        out = F.relu(self.bn1(self.conv1(x)))\n",
    "        out = self.shuffle1(out)\n",
    "        out = F.relu(self.bn2(self.conv2(out)))\n",
    "        out = self.bn3(self.conv3(out))\n",
    "        res = self.shortcut(x)\n",
    "        out = F.relu(torch.cat([out,res], 1)) if self.stride==2 else F.relu(out+res)\n",
    "        return out\n",
    "\n",
    "\n",
    "class ShuffleNet(nn.Module):\n",
    "    def __init__(self, cfg):\n",
    "        super(ShuffleNet, self).__init__()\n",
    "        out_planes = cfg['out_planes']\n",
    "        num_blocks = cfg['num_blocks']\n",
    "        groups = cfg['groups']\n",
    "\n",
    "        self.conv1 = nn.Conv2d(3, 24, kernel_size=1, bias=False)\n",
    "        self.bn1 = nn.BatchNorm2d(24)\n",
    "        self.in_planes = 24\n",
    "        self.layer1 = self._make_layer(out_planes[0], num_blocks[0], groups)\n",
    "        self.layer2 = self._make_layer(out_planes[1], num_blocks[1], groups)\n",
    "        self.layer3 = self._make_layer(out_planes[2], num_blocks[2], groups)\n",
    "        self.linear = nn.Linear(out_planes[2], 10)\n",
    "\n",
    "    def _make_layer(self, out_planes, num_blocks, groups):\n",
    "        layers = []\n",
    "        for i in range(num_blocks):\n",
    "            if i == 0:\n",
    "                layers.append(Bottleneck(self.in_planes,\n",
    "                                         out_planes-self.in_planes,\n",
    "                                         stride=2, groups=groups))\n",
    "            else:\n",
    "                layers.append(Bottleneck(self.in_planes,\n",
    "                                         out_planes,\n",
    "                                         stride=1, groups=groups))\n",
    "            self.in_planes = out_planes\n",
    "        return nn.Sequential(*layers)\n",
    "\n",
    "    def forward(self, x):\n",
    "        out = F.relu(self.bn1(self.conv1(x)))\n",
    "        out = self.layer1(out)\n",
    "        out = self.layer2(out)\n",
    "        out = self.layer3(out)\n",
    "        out = F.avg_pool2d(out, 4)\n",
    "        out = out.view(out.size(0), -1)\n",
    "        out = self.linear(out)\n",
    "        return out\n",
    "\n",
    "\n",
    "def ShuffleNetG2():\n",
    "    cfg = {\n",
    "        'out_planes': [200,400,800],\n",
    "        'num_blocks': [4,8,4],\n",
    "        'groups': 2\n",
    "    }\n",
    "    return ShuffleNet(cfg)\n",
    "\n",
    "def ShuffleNetG3():\n",
    "    cfg = {\n",
    "        'out_planes': [240,480,960],\n",
    "        'num_blocks': [4,8,4],\n",
    "        'groups': 3\n",
    "    }\n",
    "    return ShuffleNet(cfg)\n",
    "\n",
    "\n",
    "def test():\n",
    "    net = ShuffleNetG2()\n",
    "    x = torch.randn(1,3,32,32)\n",
    "    y = net(x)\n",
    "    print(y)\n",
    "\n",
    "test()"
   ]
  },
  {
   "cell_type": "markdown",
   "id": "cb6c84f1",
   "metadata": {},
   "source": [
    "# construct loss and optimizer"
   ]
  },
  {
   "cell_type": "code",
   "execution_count": 11,
   "id": "d4e28420",
   "metadata": {},
   "outputs": [],
   "source": [
    "net = ShuffleNetG2()\n",
    "criterion = nn.CrossEntropyLoss()\n",
    "optimizer = optim.SGD(net.parameters(), lr=0.001, momentum=0.9)"
   ]
  },
  {
   "cell_type": "markdown",
   "id": "002e931a",
   "metadata": {},
   "source": [
    "# Training cycle"
   ]
  },
  {
   "cell_type": "code",
   "execution_count": 12,
   "id": "48587935",
   "metadata": {},
   "outputs": [],
   "source": [
    "def train(epoch,device):\n",
    "    running_loss = 0.0\n",
    "    for i, data in enumerate(train_loader, 0):\n",
    "        # get the inputs\n",
    "        inputs, labels = data\n",
    "        inputs,labels=inputs.to(device),labels.to(device)\n",
    "\n",
    "        # zero the parameter gradients\n",
    "        optimizer.zero_grad()\n",
    "\n",
    "        # forward + backward + optimize\n",
    "        outputs = net(inputs)\n",
    "        loss = criterion(outputs, labels)\n",
    "        loss.backward()\n",
    "        optimizer.step()\n",
    "\n",
    "        # print statistics\n",
    "        running_loss += loss.item()\n",
    "        if i % 300 == 299:    # print every 2000 mini-batches\n",
    "            print('[%d, %5d] loss: %.3f' %\n",
    "                  (epoch + 1, i + 1, running_loss / 299))\n",
    "            running_loss = 0.0\n",
    "\n",
    "    print('Finished Training')"
   ]
  },
  {
   "cell_type": "code",
   "execution_count": 13,
   "id": "11ecf672",
   "metadata": {},
   "outputs": [],
   "source": [
    "def test(device):\n",
    "    correct = 0\n",
    "    total = 0\n",
    "    with torch.no_grad():\n",
    "        for data in test_loader:\n",
    "            images, labels = data\n",
    "            images,labels=images.to(device),labels.to(device)\n",
    "            outputs = net(images)\n",
    "            _, predicted = torch.max(outputs.data, 1)\n",
    "            total += labels.size(0)\n",
    "            correct += (predicted == labels).sum().item()\n",
    "\n",
    "    print('Accuracy of the network on test set: %d %%' % (\n",
    "        100 * correct / total))"
   ]
  },
  {
   "cell_type": "code",
   "execution_count": 14,
   "id": "52f33b92",
   "metadata": {},
   "outputs": [
    {
     "name": "stdout",
     "output_type": "stream",
     "text": [
      "[1,   300] loss: 1.996\n",
      "[1,   600] loss: 1.732\n",
      "Finished Training\n",
      "Accuracy of the network on test set: 40 %\n",
      "[2,   300] loss: 1.558\n",
      "[2,   600] loss: 1.525\n",
      "Finished Training\n",
      "Accuracy of the network on test set: 46 %\n",
      "[3,   300] loss: 1.426\n",
      "[3,   600] loss: 1.397\n",
      "Finished Training\n",
      "Accuracy of the network on test set: 50 %\n",
      "[4,   300] loss: 1.330\n",
      "[4,   600] loss: 1.288\n",
      "Finished Training\n",
      "Accuracy of the network on test set: 54 %\n",
      "[5,   300] loss: 1.212\n",
      "[5,   600] loss: 1.204\n",
      "Finished Training\n",
      "Accuracy of the network on test set: 55 %\n",
      "[6,   300] loss: 1.123\n",
      "[6,   600] loss: 1.109\n",
      "Finished Training\n",
      "Accuracy of the network on test set: 59 %\n",
      "[7,   300] loss: 1.035\n",
      "[7,   600] loss: 1.055\n",
      "Finished Training\n",
      "Accuracy of the network on test set: 60 %\n",
      "[8,   300] loss: 0.980\n",
      "[8,   600] loss: 0.977\n",
      "Finished Training\n",
      "Accuracy of the network on test set: 63 %\n",
      "[9,   300] loss: 0.901\n",
      "[9,   600] loss: 0.917\n",
      "Finished Training\n",
      "Accuracy of the network on test set: 62 %\n",
      "[10,   300] loss: 0.853\n",
      "[10,   600] loss: 0.864\n",
      "Finished Training\n",
      "Accuracy of the network on test set: 64 %\n"
     ]
    }
   ],
   "source": [
    "device = torch.device('cuda:0' if torch.cuda.is_available() else 'cpu')\n",
    "# print(device) #cuda:0\n",
    "net.to(device)\n",
    "for epoch in range(10):\n",
    "    train(epoch,device)\n",
    "    test(device)"
   ]
  }
 ],
 "metadata": {
  "hide_input": false,
  "kernelspec": {
   "display_name": "pytorch_visdom",
   "language": "python",
   "name": "pytorch_visdom3"
  },
  "language_info": {
   "codemirror_mode": {
    "name": "ipython",
    "version": 3
   },
   "file_extension": ".py",
   "mimetype": "text/x-python",
   "name": "python",
   "nbconvert_exporter": "python",
   "pygments_lexer": "ipython3",
   "version": "3.6.13"
  },
  "toc": {
   "base_numbering": 1,
   "nav_menu": {},
   "number_sections": true,
   "sideBar": true,
   "skip_h1_title": false,
   "title_cell": "Table of Contents",
   "title_sidebar": "Contents",
   "toc_cell": false,
   "toc_position": {},
   "toc_section_display": true,
   "toc_window_display": true
  }
 },
 "nbformat": 4,
 "nbformat_minor": 5
}
