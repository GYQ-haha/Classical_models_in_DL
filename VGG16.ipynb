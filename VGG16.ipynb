{
 "cells": [
  {
   "cell_type": "code",
   "execution_count": 24,
   "id": "094dd8a1",
   "metadata": {},
   "outputs": [],
   "source": [
    "import torch\n",
    "import torch.nn as nn\n",
    "import torch.nn.functional as F"
   ]
  },
  {
   "cell_type": "markdown",
   "id": "41b5c8cb",
   "metadata": {},
   "source": [
    "# Design Model"
   ]
  },
  {
   "cell_type": "markdown",
   "id": "4b31dff2",
   "metadata": {},
   "source": [
    "<img src=\"https://markdown-yqguo.oss-cn-beijing.aliyuncs.com/markdown-yqguo/v2-020158fdd8894772d43199e0cce9d3a8_r.jpg\" alt=\"preview\" style=\"zoom: 80%;\" />"
   ]
  },
  {
   "cell_type": "markdown",
   "id": "ee0e7c62",
   "metadata": {},
   "source": [
    "- nn.Conv2d和nn.Linear后面要接上nn.functional.relu() 或 nn.ReLU()  \n",
    "- nn.functional.dropout(p=0.5)或nn.Dropout(p=0.5)"
   ]
  },
  {
   "cell_type": "code",
   "execution_count": 27,
   "id": "a12ff1a9",
   "metadata": {},
   "outputs": [],
   "source": [
    "class _cpLayer(nn.Module):\n",
    "    def __init__(self,conv_num,num_input_features,num_output_features):\n",
    "        super(_cpLayer,self).__init__()\n",
    "        layer=[]\n",
    "        for i in range(conv_num):\n",
    "            #same卷积\n",
    "            layer.append(nn.Conv2d(in_channels=num_input_features,out_channels=num_output_features,kernel_size=3,padding=1,stride=1))\n",
    "            num_input_features=num_output_features\n",
    "            layer.append(nn.ReLU())\n",
    "        layer.append(nn.MaxPool2d(kernel_size=2,stride=2))\n",
    "        self.layer = nn.Sequential(*layer)\n",
    "        \n",
    "    def forward(self,x):\n",
    "        return self.layer(x)\n",
    "    \n",
    "    \n",
    "class Net(nn.Module):\n",
    "    def __init__(self):\n",
    "        super(Net,self).__init__()\n",
    "        self.cp1=_cpLayer(2,3,64)\n",
    "        self.cp2=_cpLayer(2,64,128)\n",
    "        self.cp3=_cpLayer(3,128,256)\n",
    "        self.cp4=_cpLayer(3,256,512)\n",
    "        self.cp5=_cpLayer(3,512,512)\n",
    "        self.fc1=nn.Linear(7*7*512,4096)\n",
    "        self.fc2=nn.Linear(4096,4096)\n",
    "        self.fc3=nn.Linear(4096,1000) #分成1000类的\n",
    "        \n",
    "    def forward(self,x):\n",
    "        in_size=x.size(0)\n",
    "        x=self.cp1(x)\n",
    "        x=self.cp2(x)\n",
    "        x=self.cp3(x)\n",
    "        x=self.cp4(x)\n",
    "        x=self.cp5(x)\n",
    "        x=x.view(in_size,-1)\n",
    "        x=F.dropout(F.relu(self.fc1(x)),p=0.5)\n",
    "        x=F.dropout(F.relu(self.fc2(x)),p=0.5)\n",
    "        x=self.fc3(x)\n",
    "        \n",
    "        return x"
   ]
  },
  {
   "cell_type": "code",
   "execution_count": 29,
   "id": "59858055",
   "metadata": {},
   "outputs": [
    {
     "name": "stdout",
     "output_type": "stream",
     "text": [
      "torch.Size([5, 1000])\n"
     ]
    }
   ],
   "source": [
    "net=Net()\n",
    "x=torch.rand(5,3,224,224)\n",
    "out=net(x)\n",
    "print(out.size())"
   ]
  }
 ],
 "metadata": {
  "hide_input": false,
  "kernelspec": {
   "display_name": "pytorch_visdom",
   "language": "python",
   "name": "pytorch_visdom3"
  },
  "language_info": {
   "codemirror_mode": {
    "name": "ipython",
    "version": 3
   },
   "file_extension": ".py",
   "mimetype": "text/x-python",
   "name": "python",
   "nbconvert_exporter": "python",
   "pygments_lexer": "ipython3",
   "version": "3.6.13"
  },
  "toc": {
   "base_numbering": 1,
   "nav_menu": {},
   "number_sections": true,
   "sideBar": true,
   "skip_h1_title": false,
   "title_cell": "Table of Contents",
   "title_sidebar": "Contents",
   "toc_cell": false,
   "toc_position": {},
   "toc_section_display": true,
   "toc_window_display": true
  }
 },
 "nbformat": 4,
 "nbformat_minor": 5
}
