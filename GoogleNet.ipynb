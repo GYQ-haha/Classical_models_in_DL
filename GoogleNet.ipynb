{
 "cells": [
  {
   "cell_type": "markdown",
   "id": "4cf00110",
   "metadata": {},
   "source": [
    "Pytorch复现GoogleNet，对minist数据集进行分类  \n",
    "- GoogleNet是一个并行结构"
   ]
  },
  {
   "cell_type": "code",
   "execution_count": 47,
   "id": "c1f4833f",
   "metadata": {},
   "outputs": [],
   "source": [
    "import torch\n",
    "import torchvision\n",
    "import torchvision.datasets as datasets\n",
    "import torchvision.transforms as transforms\n",
    "from torch.utils.data import DataLoader\n",
    "import torch.nn as nn\n",
    "import torch.nn.functional as F\n",
    "import torch.optim as optim"
   ]
  },
  {
   "cell_type": "markdown",
   "id": "3ac20b40",
   "metadata": {},
   "source": [
    "# Prepare Dataset"
   ]
  },
  {
   "cell_type": "code",
   "execution_count": 48,
   "id": "5d058150",
   "metadata": {
    "scrolled": true
   },
   "outputs": [],
   "source": [
    "batch_size=64\n",
    "\n",
    "transform=transforms.Compose([\n",
    "    transforms.ToTensor(),\n",
    "    transforms.Normalize((0.1307,),(0.3081,))\n",
    "])\n",
    "\n",
    "train_dataset=datasets.MNIST(root='./dataset/mnist',\n",
    "                            train=True,\n",
    "                            download=True,\n",
    "                            transform=transform)\n",
    "train_loader=DataLoader(train_dataset,shuffle=True,batch_size=batch_size) #训练集的batch打乱，制造随机性\n",
    "\n",
    "test_dataset=datasets.MNIST(root='./dataset/mnist',\n",
    "                           train=False,\n",
    "                           download=True,\n",
    "                           transform=transform)\n",
    "test_loader=DataLoader(test_dataset,shuffle=False,batch_size=batch_size)"
   ]
  },
  {
   "cell_type": "markdown",
   "id": "70e575a7",
   "metadata": {},
   "source": [
    "<font color='red'>画图出现了问题，不知为什么</font>"
   ]
  },
  {
   "cell_type": "markdown",
   "id": "6603c7ba",
   "metadata": {},
   "source": [
    "# Design Model"
   ]
  },
  {
   "attachments": {},
   "cell_type": "markdown",
   "id": "c90fbe58",
   "metadata": {},
   "source": [
    "<img src=\"https://markdown-yqguo.oss-cn-beijing.aliyuncs.com/markdown-yqguo/image-20220206065653861.png\" alt=\"image-20220206065653861\" style=\"zoom:25%;\" />"
   ]
  },
  {
   "cell_type": "code",
   "execution_count": 49,
   "id": "ff4269fa",
   "metadata": {},
   "outputs": [],
   "source": [
    "class InceptionA(nn.Module): #非线性结构\n",
    "    def __init__(self,in_channels):\n",
    "        super(InceptionA,self).__init__()\n",
    "        self.branch_pool=nn.Conv2d(in_channels,24,kernel_size=1)\n",
    "        \n",
    "        self.branch1x1=nn.Conv2d(in_channels,16,kernel_size=1)\n",
    "        \n",
    "        self.branch5x5_1=nn.Conv2d(in_channels,16,kernel_size=1)\n",
    "        self.branch5x5_2=nn.Conv2d(16,24,kernel_size=5,padding=2)\n",
    "        \n",
    "        self.branch3x3_1=nn.Conv2d(in_channels,16,kernel_size=1)\n",
    "        self.branch3x3_2=nn.Conv2d(16,24,kernel_size=3,padding=1)\n",
    "        self.branch3x3_3=nn.Conv2d(24,24,kernel_size=3,padding=1)\n",
    "        \n",
    "    def forward(self,x):\n",
    "        branch_pool=F.avg_pool2d(x,kernel_size=3,stride=1,padding=1)\n",
    "        branch_pool=self.branch_pool(branch_pool)\n",
    "        \n",
    "        branch1x1=self.branch1x1(x)\n",
    "        \n",
    "        branch5x5=self.branch5x5_1(x)\n",
    "        branch5x5=self.branch5x5_2(branch5x5)\n",
    "        \n",
    "        branch3x3=self.branch3x3_1(x)\n",
    "        branch3x3=self.branch3x3_2(branch3x3)\n",
    "        branch3x3=self.branch3x3_3(branch3x3)\n",
    "        \n",
    "        outputs=[branch_pool,branch1x1,branch5x5,branch3x3]\n",
    "        \n",
    "        return torch.cat(outputs,dim=1) #batch_size,channel,w,h"
   ]
  },
  {
   "cell_type": "code",
   "execution_count": 50,
   "id": "3857984e",
   "metadata": {},
   "outputs": [],
   "source": [
    "class Net(nn.Module): #线性结构\n",
    "    def __init__(self):\n",
    "        super(Net,self).__init__()\n",
    "        self.conv1=nn.Conv2d(1,10,kernel_size=5)\n",
    "        self.conv2=nn.Conv2d(88,20,kernel_size=5)\n",
    "        \n",
    "        self.incept1=InceptionA(in_channels=10)\n",
    "        self.incept2=InceptionA(in_channels=20)\n",
    "        \n",
    "        self.mp=nn.MaxPool2d(2)\n",
    "        self.fc=nn.Linear(1408,10)\n",
    "        \n",
    "    def forward(self,x):\n",
    "        in_size=x.size(0) #batch中元素的个数\n",
    "        \n",
    "        x=F.relu(self.mp(self.conv1(x)))\n",
    "        x=self.incept1(x) #没有加激活函数\n",
    "        x=F.relu(self.mp(self.conv2(x)))\n",
    "        x=self.incept2(x)\n",
    "        \n",
    "        x=x.view(in_size,-1)\n",
    "        #print(x.size())\n",
    "        x=self.fc(x) #后面不用加激活函数，因为CrossEntropyLoss自带softmax损失函数\n",
    "        return x"
   ]
  },
  {
   "cell_type": "code",
   "execution_count": 51,
   "id": "b6320641",
   "metadata": {},
   "outputs": [
    {
     "data": {
      "text/plain": [
       "tensor([[ 1.4115e-01,  4.1917e-02,  1.2853e-03,  1.1810e-01, -1.2072e-01,\n",
       "         -1.5185e-02, -1.1001e-02,  8.5034e-02, -7.9355e-02,  4.2557e-02],\n",
       "        [ 1.2360e-01,  4.0648e-02,  8.6135e-03,  1.2012e-01, -1.0114e-01,\n",
       "         -8.6694e-03, -2.0209e-02,  8.7965e-02, -7.9593e-02,  7.1254e-02],\n",
       "        [ 1.4153e-01,  1.6969e-02,  2.5939e-02,  1.0123e-01, -1.3274e-01,\n",
       "         -2.0148e-02,  1.2811e-02,  8.4670e-02, -8.9970e-02,  5.6658e-02],\n",
       "        [ 1.3901e-01,  4.7550e-02,  1.8580e-02,  1.2406e-01, -1.2049e-01,\n",
       "         -1.7718e-02,  2.2021e-02,  9.3100e-02, -8.3868e-02,  5.3675e-02],\n",
       "        [ 1.3026e-01,  6.6438e-02,  3.0532e-02,  1.0511e-01, -1.1871e-01,\n",
       "         -1.4563e-02,  1.7048e-02,  8.8765e-02, -8.1581e-02,  3.8888e-02],\n",
       "        [ 1.4007e-01,  2.5110e-02,  1.4264e-02,  1.0755e-01, -1.3827e-01,\n",
       "          6.4618e-03, -4.4953e-03,  9.3038e-02, -8.9960e-02,  3.7366e-02],\n",
       "        [ 1.5370e-01,  4.0888e-02, -5.1293e-03,  1.1385e-01, -1.2856e-01,\n",
       "         -1.8696e-02, -1.0020e-02,  7.1244e-02, -8.4507e-02,  5.3679e-02],\n",
       "        [ 1.3260e-01,  3.7339e-02, -2.4790e-03,  9.5691e-02, -1.1105e-01,\n",
       "          3.7214e-03, -2.0273e-02,  7.0348e-02, -9.4733e-02,  6.5147e-02],\n",
       "        [ 1.5909e-01,  4.4044e-02,  3.0287e-02,  8.3556e-02, -1.4171e-01,\n",
       "         -8.0009e-03, -6.3310e-03,  6.8480e-02, -7.9763e-02,  6.6302e-02],\n",
       "        [ 1.2869e-01,  3.4572e-02,  5.3273e-03,  1.0865e-01, -1.0269e-01,\n",
       "          1.0386e-02, -1.7149e-02,  9.0181e-02, -7.6600e-02,  5.6285e-02],\n",
       "        [ 1.3999e-01,  5.7863e-02,  1.6498e-02,  1.0303e-01, -1.2472e-01,\n",
       "          4.6838e-03, -1.3898e-02,  8.6665e-02, -1.0755e-01,  5.1190e-02],\n",
       "        [ 1.2716e-01,  3.0437e-02,  2.0306e-02,  1.0855e-01, -1.3124e-01,\n",
       "         -7.5522e-03, -1.0049e-03,  8.9838e-02, -9.3694e-02,  7.2011e-02],\n",
       "        [ 1.3801e-01,  4.7918e-02,  3.6103e-02,  1.0942e-01, -1.2446e-01,\n",
       "         -6.6733e-03, -2.0389e-02,  1.0790e-01, -8.8217e-02,  4.4723e-02],\n",
       "        [ 1.3090e-01,  2.4384e-02,  2.2500e-02,  1.1832e-01, -1.0835e-01,\n",
       "         -1.3976e-02, -2.0971e-03,  8.9470e-02, -9.0197e-02,  5.5635e-02],\n",
       "        [ 1.3354e-01,  4.0429e-02,  9.2303e-03,  1.1454e-01, -1.2673e-01,\n",
       "         -1.0676e-02, -8.6869e-03,  8.0221e-02, -9.3583e-02,  4.9802e-02],\n",
       "        [ 1.3497e-01,  4.3064e-02, -3.0256e-03,  1.0258e-01, -1.3280e-01,\n",
       "         -9.8233e-03, -2.2921e-02,  7.2847e-02, -9.4826e-02,  6.3600e-02],\n",
       "        [ 1.5180e-01,  4.9965e-02, -9.1214e-03,  8.6121e-02, -1.2620e-01,\n",
       "          5.6785e-03, -1.1663e-02,  7.3417e-02, -8.9377e-02,  5.1583e-02],\n",
       "        [ 1.1596e-01,  4.1586e-02,  4.6127e-03,  1.0291e-01, -1.1717e-01,\n",
       "         -3.8796e-03, -1.8320e-02,  7.7943e-02, -8.4205e-02,  6.4869e-02],\n",
       "        [ 1.3844e-01,  2.5463e-02,  7.9024e-04,  1.0894e-01, -1.2093e-01,\n",
       "          2.5609e-03, -2.0731e-02,  7.2033e-02, -1.0687e-01,  6.5601e-02],\n",
       "        [ 1.3376e-01,  2.2615e-02,  4.8188e-03,  1.0152e-01, -1.3203e-01,\n",
       "         -1.1099e-02, -6.1368e-03,  8.6220e-02, -8.5863e-02,  5.6259e-02],\n",
       "        [ 1.2670e-01,  3.1849e-02,  2.8281e-02,  1.1755e-01, -1.1672e-01,\n",
       "         -2.1247e-02, -2.4794e-03,  1.0434e-01, -8.3472e-02,  5.9909e-02],\n",
       "        [ 1.2969e-01,  4.3060e-02, -1.5352e-03,  9.8563e-02, -1.0986e-01,\n",
       "          7.9510e-03, -1.4854e-02,  7.5086e-02, -8.5406e-02,  7.1883e-02],\n",
       "        [ 1.4870e-01,  3.5001e-02,  2.1447e-02,  1.0831e-01, -1.3627e-01,\n",
       "         -9.8295e-03,  1.4673e-02,  8.0922e-02, -7.5855e-02,  6.3636e-02],\n",
       "        [ 1.3618e-01,  3.8325e-02, -2.3423e-04,  1.2452e-01, -1.1650e-01,\n",
       "         -6.7636e-03,  1.2825e-02,  8.9288e-02, -8.2379e-02,  4.0798e-02],\n",
       "        [ 1.3791e-01,  2.5383e-02,  1.9760e-02,  1.1332e-01, -1.1894e-01,\n",
       "         -1.9330e-02,  2.9954e-03,  9.7013e-02, -9.3843e-02,  4.5270e-02],\n",
       "        [ 1.3022e-01,  5.0304e-02, -2.3350e-03,  8.3707e-02, -1.2337e-01,\n",
       "         -6.1837e-03, -7.0676e-03,  8.2696e-02, -1.0360e-01,  5.7767e-02],\n",
       "        [ 1.2968e-01,  3.4434e-02,  5.8258e-03,  1.0385e-01, -1.2550e-01,\n",
       "         -1.7425e-04, -1.9934e-02,  7.1834e-02, -9.6760e-02,  6.4812e-02],\n",
       "        [ 1.3709e-01,  1.6831e-02,  1.0066e-02,  9.2134e-02, -1.3029e-01,\n",
       "          2.8909e-03, -7.5960e-03,  7.7696e-02, -8.1923e-02,  4.5796e-02],\n",
       "        [ 1.3103e-01,  1.9806e-02,  2.3440e-02,  1.1033e-01, -1.1753e-01,\n",
       "         -4.1519e-03,  6.1403e-05,  8.5015e-02, -8.7692e-02,  5.6200e-02],\n",
       "        [ 1.2879e-01,  2.4292e-02, -2.3568e-03,  1.2016e-01, -1.1572e-01,\n",
       "         -1.7845e-02, -1.4800e-02,  9.6514e-02, -8.5347e-02,  4.1812e-02],\n",
       "        [ 1.4299e-01,  2.7065e-02,  1.9883e-02,  1.0922e-01, -1.3395e-01,\n",
       "         -5.2633e-03,  1.0696e-02,  8.1124e-02, -8.7394e-02,  5.7668e-02],\n",
       "        [ 1.4020e-01,  3.3901e-02, -1.6888e-03,  1.1285e-01, -1.1943e-01,\n",
       "         -6.2577e-03, -2.2458e-02,  7.8929e-02, -9.0059e-02,  5.5307e-02],\n",
       "        [ 1.4268e-01,  3.3298e-02,  2.1733e-02,  8.5193e-02, -1.3878e-01,\n",
       "         -2.1001e-02, -8.9107e-03,  9.2579e-02, -8.8804e-02,  4.5221e-02],\n",
       "        [ 1.2083e-01,  2.9716e-02,  2.7897e-02,  1.2496e-01, -1.1191e-01,\n",
       "         -5.6178e-03, -2.1026e-03,  8.4672e-02, -8.4376e-02,  5.3141e-02],\n",
       "        [ 1.4754e-01,  3.7886e-02,  3.0575e-03,  1.0883e-01, -1.2156e-01,\n",
       "         -1.4098e-02, -9.7766e-03,  9.8377e-02, -9.8802e-02,  5.2519e-02],\n",
       "        [ 1.4086e-01,  4.6505e-02,  1.7279e-02,  1.2434e-01, -1.2122e-01,\n",
       "         -1.4709e-02, -3.5302e-03,  8.1488e-02, -9.0201e-02,  5.6450e-02],\n",
       "        [ 1.3858e-01,  4.0954e-02,  7.0037e-03,  1.0594e-01, -1.3643e-01,\n",
       "         -1.1951e-02, -7.9720e-03,  7.9981e-02, -8.9531e-02,  6.0309e-02],\n",
       "        [ 1.4725e-01,  2.0835e-02,  1.1974e-02,  9.8656e-02, -1.3874e-01,\n",
       "         -1.5627e-02,  9.3273e-03,  8.3953e-02, -9.5419e-02,  6.2884e-02],\n",
       "        [ 1.1042e-01,  3.9560e-02,  1.1128e-02,  1.2246e-01, -8.9395e-02,\n",
       "         -1.7339e-03, -1.7547e-02,  8.6750e-02, -6.5114e-02,  6.6500e-02],\n",
       "        [ 1.4308e-01,  4.0375e-02,  1.4711e-02,  9.1278e-02, -1.3240e-01,\n",
       "         -1.3738e-02, -7.1475e-03,  7.6382e-02, -9.7152e-02,  6.0665e-02],\n",
       "        [ 1.2551e-01,  4.7407e-02, -1.3657e-03,  9.9304e-02, -1.0899e-01,\n",
       "          5.4586e-03, -1.3047e-02,  7.2744e-02, -8.3259e-02,  7.0729e-02],\n",
       "        [ 1.4792e-01,  3.8435e-02,  1.9553e-02,  9.8669e-02, -1.3326e-01,\n",
       "         -1.3072e-02,  5.9389e-03,  8.9694e-02, -8.9212e-02,  5.3759e-02],\n",
       "        [ 1.2373e-01,  2.3546e-02,  9.8560e-03,  1.0740e-01, -1.2229e-01,\n",
       "         -4.4370e-03,  7.5729e-03,  8.3457e-02, -8.9645e-02,  5.0285e-02],\n",
       "        [ 1.4675e-01,  3.4919e-02,  1.5479e-02,  9.7622e-02, -1.2093e-01,\n",
       "         -5.6134e-03,  2.2209e-03,  7.9601e-02, -8.5554e-02,  5.3704e-02],\n",
       "        [ 1.4040e-01,  5.0375e-02,  2.4988e-02,  1.1238e-01, -1.2094e-01,\n",
       "         -1.0345e-02,  3.0961e-03,  8.7681e-02, -7.6871e-02,  4.5504e-02],\n",
       "        [ 1.2799e-01,  3.0479e-02,  5.6284e-03,  9.7000e-02, -1.2241e-01,\n",
       "         -8.4898e-03, -8.9480e-03,  7.4334e-02, -9.1037e-02,  5.9202e-02],\n",
       "        [ 1.1266e-01,  4.2836e-02,  2.6808e-02,  1.1584e-01, -1.0867e-01,\n",
       "         -2.0804e-02,  1.7316e-02,  9.3394e-02, -6.9554e-02,  5.3820e-02],\n",
       "        [ 1.4751e-01,  5.1203e-02,  1.3843e-02,  9.2812e-02, -1.3300e-01,\n",
       "         -4.9625e-03, -5.3170e-04,  8.6334e-02, -9.3485e-02,  6.5632e-02],\n",
       "        [ 1.2539e-01,  4.2752e-02,  8.7611e-05,  1.0092e-01, -1.1729e-01,\n",
       "          3.6228e-03, -2.0451e-02,  6.6157e-02, -8.7040e-02,  6.3575e-02],\n",
       "        [ 1.1727e-01,  3.3733e-02,  5.5931e-03,  1.0287e-01, -1.1124e-01,\n",
       "          3.9934e-03, -1.5943e-02,  7.7825e-02, -7.9019e-02,  6.5320e-02],\n",
       "        [ 1.3915e-01,  2.7424e-02,  3.2349e-03,  8.4309e-02, -1.2267e-01,\n",
       "          2.8644e-03,  4.8127e-03,  7.5453e-02, -8.8609e-02,  5.5164e-02],\n",
       "        [ 1.4338e-01,  3.5083e-02,  1.0570e-02,  9.3124e-02, -1.2614e-01,\n",
       "         -8.1459e-04, -2.4251e-02,  8.5172e-02, -8.4399e-02,  4.7782e-02],\n",
       "        [ 1.5238e-01,  2.6536e-02, -3.9296e-03,  9.9088e-02, -1.2247e-01,\n",
       "          6.9815e-03, -1.4204e-02,  7.8370e-02, -8.1893e-02,  5.4497e-02],\n",
       "        [ 1.2938e-01,  4.9238e-02,  2.7116e-02,  1.2348e-01, -1.1319e-01,\n",
       "         -1.8465e-02, -6.7805e-03,  9.6721e-02, -7.2055e-02,  4.8354e-02],\n",
       "        [ 1.4102e-01,  4.5452e-02,  1.9079e-02,  1.2395e-01, -1.2092e-01,\n",
       "         -6.8080e-03, -1.8382e-02,  9.7767e-02, -8.8885e-02,  4.0678e-02],\n",
       "        [ 1.0800e-01,  4.9755e-02,  3.1856e-02,  1.2554e-01, -1.1502e-01,\n",
       "         -3.6195e-02,  2.7952e-02,  1.0058e-01, -8.4572e-02,  5.0366e-02],\n",
       "        [ 1.3197e-01,  4.8905e-02,  2.6897e-02,  1.0787e-01, -1.1605e-01,\n",
       "         -8.3768e-03, -1.1207e-02,  9.8083e-02, -9.7278e-02,  5.0574e-02],\n",
       "        [ 1.4004e-01,  4.0841e-02,  1.2869e-02,  9.6061e-02, -1.1775e-01,\n",
       "          6.1246e-03, -1.4831e-02,  8.8211e-02, -8.0249e-02,  4.2408e-02],\n",
       "        [ 1.4611e-01,  4.6754e-02,  2.7774e-02,  1.2369e-01, -1.1643e-01,\n",
       "         -9.9223e-03, -3.7741e-03,  9.8984e-02, -8.9325e-02,  3.9523e-02],\n",
       "        [ 1.3381e-01,  4.5307e-02,  1.2903e-02,  1.0169e-01, -1.0860e-01,\n",
       "         -8.2018e-03, -1.1422e-02,  8.1380e-02, -9.3921e-02,  5.7154e-02],\n",
       "        [ 1.3371e-01,  4.1299e-02, -8.3908e-03,  9.9915e-02, -1.1437e-01,\n",
       "          1.0099e-02, -3.3389e-02,  7.1522e-02, -8.7944e-02,  6.8603e-02],\n",
       "        [ 1.4720e-01,  4.5794e-02,  3.0815e-02,  7.9736e-02, -1.2446e-01,\n",
       "          1.4062e-02, -4.3246e-03,  9.1567e-02, -8.0001e-02,  4.0295e-02],\n",
       "        [ 1.4229e-01,  4.2422e-02,  1.1520e-02,  1.2404e-01, -1.3121e-01,\n",
       "         -8.9656e-03, -3.0313e-03,  7.8809e-02, -9.8980e-02,  5.1240e-02],\n",
       "        [ 1.4121e-01,  1.7061e-02,  2.0556e-02,  1.0140e-01, -1.2949e-01,\n",
       "         -1.6602e-02,  4.6986e-03,  8.0706e-02, -7.9312e-02,  6.2765e-02]],\n",
       "       grad_fn=<AddmmBackward0>)"
      ]
     },
     "execution_count": 51,
     "metadata": {},
     "output_type": "execute_result"
    }
   ],
   "source": [
    "#计算全连接层的输入应该，输入多少维\n",
    "net=Net()\n",
    "data_loader=iter(train_loader)\n",
    "images,labels=data_loader.next()\n",
    "net(images) #torch.Size([64, 1408])"
   ]
  },
  {
   "cell_type": "code",
   "execution_count": 59,
   "id": "6718ce34",
   "metadata": {},
   "outputs": [],
   "source": [
    "model = Net()"
   ]
  },
  {
   "cell_type": "markdown",
   "id": "3f868141",
   "metadata": {},
   "source": [
    "# Construct loss and optimizer"
   ]
  },
  {
   "cell_type": "code",
   "execution_count": 60,
   "id": "e5c46f6b",
   "metadata": {},
   "outputs": [],
   "source": [
    "criterion = nn.CrossEntropyLoss() #损失函数\n",
    "optimizer = optim.SGD(model.parameters(),lr=0.01,momentum=0.5)"
   ]
  },
  {
   "cell_type": "markdown",
   "id": "b66beba0",
   "metadata": {},
   "source": [
    "# Training cycle"
   ]
  },
  {
   "cell_type": "code",
   "execution_count": 61,
   "id": "b02ece2a",
   "metadata": {},
   "outputs": [],
   "source": [
    "def train(epoch):\n",
    "    running_loss = 0.0\n",
    "    for batch_idx,data in enumerate(train_loader,0):\n",
    "        images, targets = data\n",
    "        optimizer.zero_grad() #梯度清零\n",
    "        \n",
    "        outputs = model(images)\n",
    "        loss = criterion(outputs,targets)\n",
    "        loss.backward() #反向传播求梯度\n",
    "        optimizer.step() #梯度下降法更新参数\n",
    "        \n",
    "        running_loss += loss.item()\n",
    "        if batch_idx%299 == 0:\n",
    "            print('[%d, %5d] loss: %.3f' % (epoch+1,batch_idx+1,running_loss/300))\n",
    "            running_loss = 0.0"
   ]
  },
  {
   "cell_type": "code",
   "execution_count": 62,
   "id": "3a965cde",
   "metadata": {},
   "outputs": [],
   "source": [
    "def test():\n",
    "    correct = 0\n",
    "    total = 0\n",
    "    with torch.no_grad():\n",
    "        for data in test_loader:\n",
    "            images, targets = data\n",
    "            outputs = model(images)\n",
    "            _, predicted = torch.max(outputs, dim=1) #行是batch中的每个样本，列是每种类别的预测值\n",
    "            total += targets.size(0)\n",
    "            correct += (predicted == targets).sum().item()\n",
    "    print('Accuracy on test set: %d %%' % (100*correct/total))"
   ]
  },
  {
   "cell_type": "code",
   "execution_count": 63,
   "id": "1ddc525d",
   "metadata": {},
   "outputs": [
    {
     "name": "stdout",
     "output_type": "stream",
     "text": [
      "tensor([[0.9237, 0.9674, 0.8925],\n",
      "        [0.1451, 0.8994, 0.5883]])\n",
      "tensor([1, 1]) tensor([0.9674, 0.8994])\n"
     ]
    }
   ],
   "source": [
    "a=torch.rand((2,3))\n",
    "print(a)\n",
    "val,index=torch.max(a,dim=1)\n",
    "print(index,val)"
   ]
  },
  {
   "cell_type": "code",
   "execution_count": 64,
   "id": "444cdcf4",
   "metadata": {},
   "outputs": [
    {
     "name": "stdout",
     "output_type": "stream",
     "text": [
      "[1,     1] loss: 0.008\n",
      "[1,   300] loss: 0.964\n",
      "[1,   599] loss: 0.212\n",
      "[1,   898] loss: 0.151\n",
      "Accuracy on test set: 96 %\n",
      "[2,     1] loss: 0.000\n",
      "[2,   300] loss: 0.116\n",
      "[2,   599] loss: 0.094\n",
      "[2,   898] loss: 0.097\n",
      "Accuracy on test set: 97 %\n",
      "[3,     1] loss: 0.000\n",
      "[3,   300] loss: 0.080\n",
      "[3,   599] loss: 0.072\n",
      "[3,   898] loss: 0.072\n",
      "Accuracy on test set: 98 %\n",
      "[4,     1] loss: 0.000\n",
      "[4,   300] loss: 0.068\n",
      "[4,   599] loss: 0.066\n",
      "[4,   898] loss: 0.056\n",
      "Accuracy on test set: 98 %\n",
      "[5,     1] loss: 0.000\n",
      "[5,   300] loss: 0.058\n",
      "[5,   599] loss: 0.052\n",
      "[5,   898] loss: 0.057\n",
      "Accuracy on test set: 98 %\n",
      "[6,     1] loss: 0.000\n",
      "[6,   300] loss: 0.050\n",
      "[6,   599] loss: 0.047\n",
      "[6,   898] loss: 0.050\n",
      "Accuracy on test set: 98 %\n",
      "[7,     1] loss: 0.000\n",
      "[7,   300] loss: 0.044\n",
      "[7,   599] loss: 0.043\n",
      "[7,   898] loss: 0.047\n",
      "Accuracy on test set: 98 %\n",
      "[8,     1] loss: 0.000\n",
      "[8,   300] loss: 0.039\n",
      "[8,   599] loss: 0.042\n",
      "[8,   898] loss: 0.040\n",
      "Accuracy on test set: 98 %\n",
      "[9,     1] loss: 0.000\n",
      "[9,   300] loss: 0.038\n",
      "[9,   599] loss: 0.037\n",
      "[9,   898] loss: 0.034\n",
      "Accuracy on test set: 98 %\n",
      "[10,     1] loss: 0.000\n",
      "[10,   300] loss: 0.033\n",
      "[10,   599] loss: 0.036\n",
      "[10,   898] loss: 0.035\n",
      "Accuracy on test set: 98 %\n"
     ]
    }
   ],
   "source": [
    "for epoch in range(10):\n",
    "    train(epoch)\n",
    "    test()"
   ]
  },
  {
   "cell_type": "code",
   "execution_count": null,
   "id": "93c768fa",
   "metadata": {},
   "outputs": [],
   "source": []
  }
 ],
 "metadata": {
  "hide_input": false,
  "kernelspec": {
   "display_name": "pytorch_visdom",
   "language": "python",
   "name": "pytorch_visdom3"
  },
  "language_info": {
   "codemirror_mode": {
    "name": "ipython",
    "version": 3
   },
   "file_extension": ".py",
   "mimetype": "text/x-python",
   "name": "python",
   "nbconvert_exporter": "python",
   "pygments_lexer": "ipython3",
   "version": "3.6.13"
  },
  "toc": {
   "base_numbering": 1,
   "nav_menu": {},
   "number_sections": true,
   "sideBar": true,
   "skip_h1_title": false,
   "title_cell": "Table of Contents",
   "title_sidebar": "Contents",
   "toc_cell": false,
   "toc_position": {},
   "toc_section_display": true,
   "toc_window_display": true
  }
 },
 "nbformat": 4,
 "nbformat_minor": 5
}
